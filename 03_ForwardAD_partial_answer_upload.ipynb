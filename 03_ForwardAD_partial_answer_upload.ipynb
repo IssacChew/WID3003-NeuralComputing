{
  "nbformat": 4,
  "nbformat_minor": 0,
  "metadata": {
    "kernelspec": {
      "display_name": "Python 3",
      "language": "python",
      "name": "python3"
    },
    "language_info": {
      "codemirror_mode": {
        "name": "ipython",
        "version": 3
      },
      "file_extension": ".py",
      "mimetype": "text/x-python",
      "name": "python",
      "nbconvert_exporter": "python",
      "pygments_lexer": "ipython3",
      "version": "3.6.7"
    },
    "colab": {
      "name": "03_ForwardAD_partial_answer_upload.ipynb",
      "provenance": [],
      "collapsed_sections": []
    }
  },
  "cells": [
    {
      "cell_type": "markdown",
      "metadata": {
        "id": "5T-7s00PwJku"
      },
      "source": [
        "#Chain rules for partial derivatives\n",
        "\n",
        "Given $f(x(t),y(t))$ , the (implicit) partial derivative f wrt to variable t is (refer Calculus by Gilbert Strand)\n",
        "\n",
        "\\begin{equation}\n",
        "\\frac{df}{dt} = \\frac{\\partial f}{\\partial x}\\frac{dx}{dt} + \\frac{\\partial f}{\\partial y}\\frac{dy}{dt} \n",
        "\\end{equation}\n",
        "\n",
        "The idea is if $t$ changes by $\\Delta t$, that affects $x,y$ and changes by $\\Delta x, \\Delta y$. There is a domino effect on $f$, it changes by $\\Delta f$.\n",
        "\n",
        "Using the chain rule above we can arrive at the many differential rules such as sum, difference, product, quotient etc.\n",
        "\n",
        "#Forward AD\n",
        "In forward AD the idea is that given two variable $x$ and $y$ which both depends on some other variable $t$, by formalising the differentiation rules of the different relationship between $x$ and $y$ (whether it's $xy,x/y..$,) we can then find the partial derivative of function $f(x,y)$ with respect to both variable $x,y$ by seeding $t=x$ and $t=y$ respectively."
      ]
    },
    {
      "cell_type": "markdown",
      "metadata": {
        "id": "sVDm5l9k-XRh"
      },
      "source": [
        "#About Power,Exponential function \n",
        "\n",
        "For a single variable, given $f(x)=x^n$ where $n$ is a constant, the derivative is known from power rule as \n",
        "\n",
        "\\begin{equation}\n",
        "\\frac{df}{dx}=nx^{n-1}\n",
        "\\end{equation}\n",
        "\n",
        "and for $f(x)=a^x$, where a is also a constant, the derivative is \n",
        "\n",
        "\\begin{equation}\n",
        "\\frac{df}{dx}=a^x ln(x) \\frac{d}{dx}x\n",
        "\\end{equation}\n",
        "\n",
        "What about a function of multivariables $f(x(t),y(t))=x(t)^{y(t)}$ ? What is $\\frac{df}{dt}$ ? We use the chain rules as above, re written again \n",
        "\n",
        "\\begin{equation}\n",
        "\\frac{df}{dt} = \\frac{\\partial f}{\\partial x}\\frac{dx}{dt} + \\frac{\\partial f}{\\partial y}\\frac{dy}{dt} \n",
        "\\end{equation}\n",
        "\n",
        "For $f(x,y) = x^y$, using the power rule, it's partial derivative $\\frac{\\partial f}{\\partial x}=yx^{y-1}$. But isn't power rule for $x^n$ , $n$ is a constant ? Isn't $y(t)$ a function of $t$ ? Well when we compute partial derivatives wrt to one variable $x$, we treat other variables as constant, so  $\\frac{\\partial f}{\\partial x}=yx^{y-1}$.\n",
        "\n",
        "The same goes for $\\frac{\\partial f}{\\partial y}=\\frac{d}{dy}x^y = x^y ln(x) \\frac{d}{dy}y =  x^y ln(x) $ is possible because although $x$ is a function of $t$ in the case of partial derivatives wrt to $y$, $x$ is treated as a constant. Putting it all together, we'll get\n",
        "\n",
        "\\begin{equation}\n",
        "\\frac{df}{dt} = yx^{y-1}\\frac{dx}{dt} + x^y ln(x)\\frac{dy}{dt} \n",
        "\\end{equation}\n",
        "\n",
        "\n",
        "which is what is implemented in '__pow__' below\n"
      ]
    },
    {
      "cell_type": "markdown",
      "metadata": {
        "id": "w5BgJ8Bm66if"
      },
      "source": [
        "Implement DualNumber class"
      ]
    },
    {
      "cell_type": "code",
      "metadata": {
        "deletable": false,
        "nbgrader": {
          "checksum": "33fa490908871a743dabb3060ebe112e",
          "grade": false,
          "grade_id": "cell-a645b47036f56c2e",
          "locked": false,
          "schema_version": 1,
          "solution": true
        },
        "id": "LbXoYUP3FK_9"
      },
      "source": [
        "import math\n",
        "\n",
        "class DualNumber:\n",
        "    def __init__(self, value, dvalue): #dvalue is derivative of z wrt to some variable t.\n",
        "        self.value = value\n",
        "        self.dvalue = dvalue #derivative\n",
        "\n",
        "\n",
        "    def __str__(self):\n",
        "        return str(self.value) + \" + \" + str(self.dvalue) + \"ε\"\n",
        "\n",
        "\n",
        "    def __add__(self, other): #addition du+dv\n",
        "        return DualNumber(self.value+other.value,\n",
        "                          self.dvalue+other.dvalue)\n",
        "\n",
        "    def __mul__(self, other):  #multiplication  udv+vdu.\n",
        "        return DualNumber(self.value * other.value,\n",
        "            self.dvalue * other.value + other.dvalue * self.value)\n",
        "        \n",
        "    def __truediv__(self,other): #division (vdu-udv) / v^2\n",
        "        return DualNumber(self.value/other.value,\n",
        "                          (other.value*self.dvalue-self.value*other.dvalue)/other.value**2)        \n",
        "    \n",
        "    \n",
        "    def __pow__(self,other): #x^n, d/dx = nx^(n-1)  d/dy= x^yln(x)\n",
        "      a,b = 1, 1\n",
        "      for i in range(other.value-1): # to avoid using **\n",
        "        a*=self.value  #a is x^(y-1)\n",
        "        b*=self.value\n",
        "      b*=self.value #b is x^y\n",
        "\n",
        "      return DualNumber(b,(other.value*a*self.dvalue) +(b*math.log(self.value)*other.dvalue))\n",
        "\n",
        "\n",
        "    "
      ],
      "execution_count": 12,
      "outputs": []
    },
    {
      "cell_type": "markdown",
      "metadata": {
        "id": "gZdLLGqy61-u"
      },
      "source": [
        "Test the functions. Verify the results by manual calculation."
      ]
    },
    {
      "cell_type": "code",
      "metadata": {
        "deletable": false,
        "editable": false,
        "nbgrader": {
          "checksum": "e9afb52c0524256aa416c8e0ceec60de",
          "grade": true,
          "grade_id": "cell-7923d5c39d574cd7",
          "locked": true,
          "points": 3,
          "schema_version": 1,
          "solution": false
        },
        "id": "dJU-HWVcFK__",
        "colab": {
          "base_uri": "https://localhost:8080/"
        },
        "outputId": "33720390-d51f-4885-a23c-5084acc55eed"
      },
      "source": [
        "#Consider x=3, y=2\n",
        "#Seed dx=1, dy=0 to get da/dx and the other way to get da/dy\n",
        "x=DualNumber(3,0)\n",
        "y=DualNumber(2,1)\n",
        "\n",
        "#Test power , b=x^y\n",
        "b=x**y\n",
        "print('power db: ',b) \n",
        "\n",
        "\n",
        "#Test addition a=x+y \n",
        "a=x+y \n",
        "print('addition da: ',a) \n",
        "\n",
        "\n",
        "#Test multiplication a=xy\n",
        "a = x*y  \n",
        "print('mulitiplication da: ',a) \n",
        "\n",
        "\n",
        "#Test division\n",
        "a = x/y  \n",
        "print('division da: ',a) \n"
      ],
      "execution_count": 10,
      "outputs": [
        {
          "output_type": "stream",
          "text": [
            "power db:  9 + 9.887510598012987ε\n",
            "addition da:  5 + 1ε\n",
            "mulitiplication da:  6 + 3ε\n",
            "division da:  1.5 + -0.75ε\n"
          ],
          "name": "stdout"
        }
      ]
    },
    {
      "cell_type": "markdown",
      "metadata": {
        "deletable": false,
        "editable": false,
        "nbgrader": {
          "checksum": "5f834befbd408096b4d11ec9cd22159c",
          "grade": false,
          "grade_id": "cell-0429b8810d0cf3a3",
          "locked": true,
          "schema_version": 1,
          "solution": false
        },
        "id": "W-ZR0MlnFLAE"
      },
      "source": [
        "## Putting it all together\n",
        "\n",
        "1. Write a code to compute the value of the function $z=x\\cdot y+sin(x)$ given $x=0.5$ and $y=4.2$, together with the derivative $\\partial z/\\partial x$ at that point. \n",
        "\n"
      ]
    },
    {
      "cell_type": "code",
      "metadata": {
        "deletable": false,
        "nbgrader": {
          "checksum": "ff1399f6f7101774bd4d3e9c49ed6458",
          "grade": false,
          "grade_id": "cell-12f7c8fa42784946",
          "locked": false,
          "schema_version": 1,
          "solution": true
        },
        "id": "KII-PFntFLAE",
        "colab": {
          "base_uri": "https://localhost:8080/"
        },
        "outputId": "d85cbb27-f9b1-431e-c7bf-d2d9ba010dce"
      },
      "source": [
        "\n",
        "#if you solve the above equation manually, you should get dz/dx=y+cos(x) and dz/dy=x\n",
        "\n",
        "#To get the derivatives d/dx, set d/dx=1 and d/dy=0\n",
        "#To get d/dy, do the opposite\n",
        "x=DualNumber(0.5,0)\n",
        "y=DualNumber(4.2,1)\n",
        "\n",
        "def sin(x):\n",
        "      return DualNumber(math.sin(x.value), math.cos(x.value)*x.dvalue)  \n",
        "\n",
        "\n",
        "a=x*y\n",
        "b=sin(x)\n",
        "z=a+b\n",
        "\n",
        "print(z)\n",
        "#dz/dx = 5.077582...\n",
        "#dz/dy = 0.5\n",
        "\n"
      ],
      "execution_count": 17,
      "outputs": [
        {
          "output_type": "stream",
          "text": [
            "2.579425538604203 + 0.5ε\n"
          ],
          "name": "stdout"
        }
      ]
    }
  ]
}