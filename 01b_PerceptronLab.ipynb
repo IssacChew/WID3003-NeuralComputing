{
  "nbformat": 4,
  "nbformat_minor": 0,
  "metadata": {
    "colab": {
      "name": "01b_PerceptronLab.ipynb",
      "provenance": [],
      "authorship_tag": "ABX9TyMzu9nabM2aJta/cGzvXvl/"
    },
    "kernelspec": {
      "name": "python3",
      "display_name": "Python 3"
    },
    "language_info": {
      "name": "python"
    }
  },
  "cells": [
    {
      "cell_type": "markdown",
      "metadata": {
        "id": "jQ8Ksm2wGxkO"
      },
      "source": [
        "#Perceptron with other simple problems\n",
        "Now that you can code Perceptron to classify outputs for AND logic, let's play some more in this 1 hour session \n",
        "\n",
        "\n",
        "Please code from scracth. Using just numpy and basic python (without any class, because it's a simple problem) code perceptron to solve OR logic \n",
        "\n",
        "0. You can do import numpy, random, math if necessary.\n",
        "1. Using the variant of perceptron algorithm in wikipedia (just slightly different than the one in the slides)\n",
        "2. Weights and bias randomly initialized\n",
        "3. Update both biases and weights \n",
        "4. Comment on learning rate vs iteration , effect of different weights initialization.\n",
        "5. Submit the exercise, ideally by 10pm today. But because this is a non marked task (but you have to submit), I'll set as by before next lecture. Submission is by Google form on Spectrum.\n",
        "\n",
        "Submission link\n",
        "\n",
        "https://forms.gle/LUoJmVhTcDn7DVYGA\n",
        "\n",
        "\n"
      ]
    },
    {
      "cell_type": "code",
      "metadata": {
        "id": "i8kLg-NBGeYz"
      },
      "source": [
        ""
      ],
      "execution_count": null,
      "outputs": []
    }
  ]
}