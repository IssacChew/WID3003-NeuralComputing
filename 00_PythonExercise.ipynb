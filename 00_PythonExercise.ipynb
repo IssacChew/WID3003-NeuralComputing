{
  "nbformat": 4,
  "nbformat_minor": 0,
  "metadata": {
    "colab": {
      "name": "00_PythonExercise.ipynb",
      "provenance": []
    },
    "kernelspec": {
      "name": "python3",
      "display_name": "Python 3"
    }
  },
  "cells": [
    {
      "cell_type": "markdown",
      "metadata": {
        "id": "pXIGoa1WhXnW"
      },
      "source": [
        "#Basic numpy\r\n",
        "\r\n",
        "1. Play around with numpy -there are many tutorials that you can google it.\r\n",
        "2. Comfortable enough with arrays, list,\r\n",
        "indexing, access elements, how to reassign values.\r\n",
        "3. For loops with arrays.\r\n",
        "4. Can create functions( take input parameters, return a value)\r\n",
        "\r\n",
        "\r\n"
      ]
    },
    {
      "cell_type": "code",
      "metadata": {
        "colab": {
          "base_uri": "https://localhost:8080/"
        },
        "id": "kEv8lNbigfWd",
        "outputId": "b2b60973-fcec-4bd1-9dc2-fbbe7fedba12"
      },
      "source": [
        "import numpy as np\r\n",
        "\r\n",
        "arr = np.array([1,2,3])\r\n",
        "\r\n",
        "print(arr)\r\n",
        "\r\n",
        "arr2d = np.array([[1,2,3],[4,5,6]])\r\n",
        "print(arr2d)\r\n",
        "\r\n",
        "print('--for loops by rows here---')\r\n",
        "for item in arr2d:\r\n",
        "  print('item: ',item)\r\n",
        "\r\n",
        "for rows in range(2):\r\n",
        "  for columns in range(3):\r\n",
        "    print(arr2d[rows,columns])\r\n"
      ],
      "execution_count": 12,
      "outputs": [
        {
          "output_type": "stream",
          "text": [
            "[1 2 3]\n",
            "[[1 2 3]\n",
            " [4 5 6]]\n",
            "--for loops by rows here---\n",
            "item:  [1 2 3]\n",
            "item:  [4 5 6]\n",
            "1\n",
            "2\n",
            "3\n",
            "4\n",
            "5\n",
            "6\n"
          ],
          "name": "stdout"
        }
      ]
    },
    {
      "cell_type": "markdown",
      "metadata": {
        "id": "ZhFmlFsTzGtc"
      },
      "source": [
        "# Transpose, dot product, matrix multiplication"
      ]
    },
    {
      "cell_type": "code",
      "metadata": {
        "id": "Rx5ATupFzGSy"
      },
      "source": [
        ""
      ],
      "execution_count": null,
      "outputs": []
    }
  ]
}