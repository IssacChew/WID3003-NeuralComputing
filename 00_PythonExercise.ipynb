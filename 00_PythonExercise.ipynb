{
  "nbformat": 4,
  "nbformat_minor": 0,
  "metadata": {
    "colab": {
      "name": "00_PythonExercise.ipynb",
      "provenance": [],
      "authorship_tag": "ABX9TyMgm1hrwahZeMW3bG+RkXQy"
    },
    "kernelspec": {
      "name": "python3",
      "display_name": "Python 3"
    }
  },
  "cells": [
    {
      "cell_type": "markdown",
      "metadata": {
        "id": "pXIGoa1WhXnW"
      },
      "source": [
        "#Basic numpy\n",
        "\n",
        "1. Play around with numpy -there are many tutorials that you can google it.\n",
        "2. Comfortable enough with arrays, list,\n",
        "indexing, access elements, how to reassign values.\n",
        "3. For loops with arrays.\n",
        "4. Can create functions( take input parameters, return a value)\n",
        "\n",
        "\n"
      ]
    },
    {
      "cell_type": "code",
      "metadata": {
        "colab": {
          "base_uri": "https://localhost:8080/"
        },
        "id": "kEv8lNbigfWd",
        "outputId": "daa550bd-20f2-4d9e-de57-63ca124defea"
      },
      "source": [
        "import numpy as np\n",
        "\n",
        "arr = np.array([1,2,3])\n",
        "\n",
        "print(arr)\n",
        "\n",
        "arr2d = np.array([[1,2,3],[4,5,6]])\n",
        "print(arr2d)\n",
        "\n",
        "print('--for loops by rows here---')\n",
        "for item in arr2d:\n",
        "  print('item: ',item)\n",
        "\n",
        "for rows in range(2):\n",
        "  for columns in range(3):\n",
        "    print(arr2d[rows,columns])\n",
        "\n",
        "\n",
        "#Function\n",
        "def addition(x,y):\n",
        "  return x+y\n",
        "\n",
        "print(\"3+2 is \",addition(3,2))  \n"
      ],
      "execution_count": 1,
      "outputs": [
        {
          "output_type": "stream",
          "text": [
            "[1 2 3]\n",
            "[[1 2 3]\n",
            " [4 5 6]]\n",
            "--for loops by rows here---\n",
            "item:  [1 2 3]\n",
            "item:  [4 5 6]\n",
            "1\n",
            "2\n",
            "3\n",
            "4\n",
            "5\n",
            "6\n",
            "3+2 is  5\n"
          ],
          "name": "stdout"
        }
      ]
    },
    {
      "cell_type": "markdown",
      "metadata": {
        "id": "ZhFmlFsTzGtc"
      },
      "source": [
        "# Transpose, dot product\n",
        "1. Randomly initialize two vectors **a** and **b** of the same dimension\n",
        "2. Perform dot product c = **a.b**\n",
        "\n",
        "#Matrix multiplication\n",
        "1. Randomly initialize two matrices **A** and **B** of the same (inner) dimension\n",
        "2. Perform matrix multiplication  **AB** and **BA** (when is this possible?)\n",
        "3. Does **AB**= **BA**?\n"
      ]
    },
    {
      "cell_type": "code",
      "metadata": {
        "id": "Rx5ATupFzGSy"
      },
      "source": [
        "# YOUR CODE HERE\n",
        "raise NotImplementedError()"
      ],
      "execution_count": null,
      "outputs": []
    }
  ]
}