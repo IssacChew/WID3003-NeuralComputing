{
  "nbformat": 4,
  "nbformat_minor": 0,
  "metadata": {
    "colab": {
      "name": "00_PythonExercise.ipynb",
      "provenance": [],
      "collapsed_sections": [],
      "authorship_tag": "ABX9TyNAfcCMPS9rnUkYSWKOhiu6"
    },
    "kernelspec": {
      "name": "python3",
      "display_name": "Python 3"
    }
  },
  "cells": [
    {
      "cell_type": "markdown",
      "metadata": {
        "id": "pXIGoa1WhXnW"
      },
      "source": [
        "#Basic numpy\n",
        "\n",
        "1. Play around with numpy -there are many tutorials that you can google it.\n",
        "2. Comfortable enough with arrays, list,\n",
        "indexing, access elements, how to reassign values.\n",
        "3. For loops with arrays.\n",
        "4. Can create functions( take input parameters, return a value)\n",
        "\n",
        "\n"
      ]
    },
    {
      "cell_type": "code",
      "metadata": {
        "colab": {
          "base_uri": "https://localhost:8080/"
        },
        "id": "kEv8lNbigfWd",
        "outputId": "80034516-e586-4efc-f7c0-de679b40bc19"
      },
      "source": [
        "import numpy as np\n",
        "\n",
        "arr = np.array([1,2,3])\n",
        "\n",
        "print(arr)\n",
        "\n",
        "arr2d = np.array([[1,2,3],[4,5,6]])\n",
        "print(arr2d)\n",
        "\n",
        "print('--for loops by rows here---')\n",
        "for item in arr2d:\n",
        "  print('item: ',item)\n",
        "\n",
        "for rows in range(2):\n",
        "  for columns in range(3):\n",
        "    print(arr2d[rows,columns])\n",
        "\n",
        "\n",
        "#Function\n",
        "def addition(x,y):\n",
        "  return x+y\n",
        "\n",
        "print(\"3+2 is \",addition(3,2))  \n"
      ],
      "execution_count": null,
      "outputs": [
        {
          "output_type": "stream",
          "text": [
            "[1 2 3]\n",
            "[[1 2 3]\n",
            " [4 5 6]]\n",
            "--for loops by rows here---\n",
            "item:  [1 2 3]\n",
            "item:  [4 5 6]\n",
            "1\n",
            "2\n",
            "3\n",
            "4\n",
            "5\n",
            "6\n",
            "3+2 is  5\n"
          ],
          "name": "stdout"
        }
      ]
    },
    {
      "cell_type": "markdown",
      "metadata": {
        "id": "TcKrIY_CpLUP"
      },
      "source": [
        "#Summation of array"
      ]
    },
    {
      "cell_type": "code",
      "metadata": {
        "colab": {
          "base_uri": "https://localhost:8080/"
        },
        "id": "xnpXJITUpKvI",
        "outputId": "5d117a81-3c90-41eb-8b99-686d126c980a"
      },
      "source": [
        "arr= np.random.rand(3)\n",
        "print('array: ',arr,'sum of array: ',arr.sum())"
      ],
      "execution_count": null,
      "outputs": [
        {
          "output_type": "stream",
          "text": [
            "array: \n",
            " [0.80525451 0.68680372 0.02110816] sum of array:  1.5131663897863739\n"
          ],
          "name": "stdout"
        }
      ]
    },
    {
      "cell_type": "markdown",
      "metadata": {
        "id": "ZhFmlFsTzGtc"
      },
      "source": [
        "# Transpose, dot product\n",
        "1. Randomly initialize two vectors **a** and **b** of the same dimension\n",
        "2. Perform dot product c = **a.b**\n",
        "\n",
        "#Matrix multiplication\n",
        "1. Randomly initialize two matrices **A** and **B** of the same (inner) dimension\n",
        "2. Perform matrix multiplication  **AB** and **BA** (when is this possible?)\n",
        "3. Does **AB**= **BA**? If not, how do we set so that **AB**= **BA**?\n"
      ]
    },
    {
      "cell_type": "code",
      "metadata": {
        "id": "Rx5ATupFzGSy",
        "colab": {
          "base_uri": "https://localhost:8080/",
          "height": 185
        },
        "outputId": "3e9a7cb2-5a33-4be1-d227-6850c3caaa82"
      },
      "source": [
        "# YOUR CODE HERE\n",
        "raise NotImplementedError()"
      ],
      "execution_count": null,
      "outputs": [
        {
          "output_type": "error",
          "ename": "NotImplementedError",
          "evalue": "ignored",
          "traceback": [
            "\u001b[0;31m---------------------------------------------------------------------------\u001b[0m",
            "\u001b[0;31mNotImplementedError\u001b[0m                       Traceback (most recent call last)",
            "\u001b[0;32m<ipython-input-4-15b94d1fa268>\u001b[0m in \u001b[0;36m<module>\u001b[0;34m()\u001b[0m\n\u001b[1;32m      1\u001b[0m \u001b[0;31m# YOUR CODE HERE\u001b[0m\u001b[0;34m\u001b[0m\u001b[0;34m\u001b[0m\u001b[0;34m\u001b[0m\u001b[0m\n\u001b[0;32m----> 2\u001b[0;31m \u001b[0;32mraise\u001b[0m \u001b[0mNotImplementedError\u001b[0m\u001b[0;34m(\u001b[0m\u001b[0;34m)\u001b[0m\u001b[0;34m\u001b[0m\u001b[0;34m\u001b[0m\u001b[0m\n\u001b[0m",
            "\u001b[0;31mNotImplementedError\u001b[0m: "
          ]
        }
      ]
    },
    {
      "cell_type": "markdown",
      "metadata": {
        "id": "9bTscTVyhYqu"
      },
      "source": [
        "#Random seed\n",
        "\n",
        "For reproducibility. Pseudo random generators are not actually random, but deterministic in a sense. "
      ]
    },
    {
      "cell_type": "code",
      "metadata": {
        "id": "PGzFm_nChdbV"
      },
      "source": [
        "import random\n",
        "random.seed(3)\n",
        "print(random.random())\n",
        "random.seed(10)\n",
        "print(random.random())\n",
        "\n",
        "\n",
        "print(\"--------\")\n",
        "for i in range(11):\n",
        "  random.seed(i)\n",
        "  print(random.random())\n"
      ],
      "execution_count": null,
      "outputs": []
    },
    {
      "cell_type": "markdown",
      "metadata": {
        "id": "u4GhkKdQAaRO"
      },
      "source": [
        "#Torch exercise \n",
        "-to change the shape of an array in torch/tensor, use view and re assign the variable\n"
      ]
    },
    {
      "cell_type": "code",
      "metadata": {
        "colab": {
          "base_uri": "https://localhost:8080/"
        },
        "id": "Hm1xjPDqAle0",
        "outputId": "c891b53a-f485-4bb9-ddbc-458c65c15230"
      },
      "source": [
        "import torch\n",
        "a=torch.rand(4,4)\n",
        "print(a)\n",
        "\n",
        "print(\"\\n---Reshaped tensor----\\n\")\n",
        "a = a.view(8,2)\n",
        "print(a)"
      ],
      "execution_count": 5,
      "outputs": [
        {
          "output_type": "stream",
          "text": [
            "tensor([[0.4959, 0.8053, 0.9640, 0.0717],\n",
            "        [0.0647, 0.5012, 0.1353, 0.7119],\n",
            "        [0.6708, 0.3900, 0.9065, 0.0540],\n",
            "        [0.1018, 0.0934, 0.9951, 0.4318]])\n",
            "\n",
            "---Reshaped tensor----\n",
            "\n",
            "tensor([[0.4959, 0.8053],\n",
            "        [0.9640, 0.0717],\n",
            "        [0.0647, 0.5012],\n",
            "        [0.1353, 0.7119],\n",
            "        [0.6708, 0.3900],\n",
            "        [0.9065, 0.0540],\n",
            "        [0.1018, 0.0934],\n",
            "        [0.9951, 0.4318]])\n"
          ],
          "name": "stdout"
        }
      ]
    }
  ]
}